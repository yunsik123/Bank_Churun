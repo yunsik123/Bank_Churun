{
 "cells": [
  {
   "cell_type": "code",
   "execution_count": 19,
   "id": "78c4424d",
   "metadata": {},
   "outputs": [
    {
     "name": "stdout",
     "output_type": "stream",
     "text": [
      "(165034, 14) (110023, 13) (110023, 2)\n"
     ]
    }
   ],
   "source": [
    "#베이스라인만들어보자\n",
    "import numpy as np\n",
    "import pandas as pd\n",
    "#train=pd.read_csv(\"/kaggle/input/playground-series-s4e1/train.csv\")\n",
    "#test=pd.read_csv(\"/kaggle/input/playground-series-s4e1/test.csv\")\n",
    "#submission=pd.read_csv(\"/kaggle/input/playground-series-s4e1/sample_submission.csv\")\n",
    "train=pd.read_csv(\"train.csv\")\n",
    "test=pd.read_csv(\"test.csv\")\n",
    "submission=pd.read_csv(\"sample_submission.csv\")\n",
    "#ROC이용\n",
    "print(train.shape,test.shape,submission.shape)\n",
    "\n",
    "#Exited대신 target사용하겠습니다\n",
    "train.rename(columns={'Exited':'target'}, inplace=True)\n",
    "test.rename(columns={'Exited':'target'}, inplace=True)"
   ]
  },
  {
   "cell_type": "code",
   "execution_count": 20,
   "id": "d6c48d1c",
   "metadata": {},
   "outputs": [],
   "source": [
    "#데이터 합치기\n",
    "all_data=pd.concat([train,test],ignore_index=True)\n",
    "all_data=all_data.drop('target',axis=1)#타깃값제거"
   ]
  },
  {
   "cell_type": "code",
   "execution_count": 21,
   "id": "997c79eb",
   "metadata": {},
   "outputs": [],
   "source": [
    "#feature engineering\n",
    "#간단한 전처리(feature engineering)\n",
    "df=all_data\n",
    "\n",
    "#ordinal encoding은 label도 순서지만 내가 원하는 순서대로 인코딩하고 싶을땐 map함수이용해서하거나 아니면 알파벳은 ordinal encoder쓰면\n",
    "#편함 그냥 라벨은 순서가 고려되긴하는데 막 넣을수있기에 조심해서보고해야함.\n",
    "#sklearn의 모델이나 xgboost는 반드시 레이블이나 원핫 해줘야함 \n",
    "#lightgbm ,catboost ,tree기반 ,statsmodel은 알아서 해줌(더미변수화든 원핫이든 레이블이든)\n",
    "\n",
    "#목적변수는 int형으로 가만히 두기\n",
    "#Xgboost를 R에서 사용할때는 상관 없지만 Python에서 사용할때는 \n",
    "#범주형 변수들을 (Object나 Category로 되어 있는 변수) 숫자형 변수로 바꿔줘야 한다.\n",
    "#그래서 0과1로되어있는 이진변수(int)까지는 숫자형으로 바꿀필요없는듯 여튼\n",
    "#귀찮은거 많이 없애주고 속도도빠르니 lightgbm쓰나벼?\n",
    "\n",
    "\n",
    "\n",
    "#중복값이면 1아니면 0인 feature를 df에 추가한다.\n",
    "df['duple'] = df['CustomerId'].duplicated(keep=False).astype(int)\n",
    "df['duple']=df['duple'].astype(\"category\")\n",
    "\n",
    "\n",
    "\n",
    "\n",
    "#인코딩(모델링부분에서 할 것)\n",
    "\n",
    "#1.HasCrCard,IsActiveMember 2가지는 범주형으로(이미 숫자) \n",
    "df['HasCrCard'] = df['HasCrCard'].astype('category')\n",
    "df['IsActiveMember'] = df['IsActiveMember'].astype('category')\n",
    "\n",
    "#2.NumOfProducts는 카테고리형으로(이미 숫자고 순서적용)->이미 숫자아니면 뒤에다가 .cat.codes진행\n",
    "df['NumOfProducts'] = df['NumOfProducts'].astype('category')\n",
    "\n",
    "\n",
    "#3.Geography와 Gender는 object지만 나중을 위해 숫자로 변환\n",
    "#3개니까 Geography 원핫 인코딩 진행(순서를 고려해야할경우는 label인코딩을 해야함)\n",
    "from sklearn.preprocessing import OneHotEncoder\n",
    "encoder = OneHotEncoder(sparse_output=False, drop='first')\n",
    "df_encoded = pd.DataFrame(encoder.fit_transform(df[['Geography']]), columns=encoder.get_feature_names_out(['Geography']))\n",
    "# 기존 데이터프레임에서 'Geography' 열 제거\n",
    "df = df.drop(['Geography'], axis=1)\n",
    "# 인코딩된 결과를 기존 데이터프레임에 합치기\n",
    "df = pd.concat([df, df_encoded], axis=1)\n",
    "\n",
    "\n",
    "#2개니까 gender는 원핫인코딩필요 없음 레이블 인코디진행 0과1이잖아\n",
    "from sklearn.preprocessing import LabelEncoder\n",
    "label_encoder = LabelEncoder()\n",
    "df['Gender'] = label_encoder.fit_transform(df['Gender'])\n",
    "#레이블을 category로 변환\n",
    "df['Gender'] = df['Gender'].astype('category')\n",
    "\n",
    "\n",
    "#4.Surname과 관련된 타깃 인코딩\n",
    "#from category_encoders import TargetEncoder\n",
    "# 특성과 타겟을 나누기\n",
    "#X = df.drop('Exited', axis=1)\n",
    "#y = df['Exited']\n",
    "## TargetEncoder 생성 및 인코딩\n",
    "#encoder = TargetEncoder(cols=['Surname'])\n",
    "#df= encoder.fit_transform(X, y)\n",
    "#바꾼 Surname의 feature가 연속이다. object형태로 되어있기에 변환해준다.\n",
    "#df['Surname_targetencoding'] = df['Surname'].astype('float')\n",
    "\n",
    "\n",
    "#5.Surname과 관련된 onehot인코딩(속도때매 타깃을쓰고싶지만만..그냥하자)\n",
    "#plus여기는 lightgbm쓸거니까 그냥 라벨인코딩\n",
    "from sklearn.preprocessing import LabelEncoder\n",
    "label_encoder = LabelEncoder()\n",
    "df['Surname'] = label_encoder.fit_transform(df['Surname'])\n",
    "df['Surname']=df['Surname'].astype(\"category\")\n",
    "\n",
    "#6.CustomerId 와 관련된 onehot인코딩해야하지만 lightgbm은 그냥 이걸로도 충분\n",
    "label_encoder = LabelEncoder()\n",
    "df['CustomerId'] = label_encoder.fit_transform(df['CustomerId'])\n",
    "df['CustomerId']=df['CustomerId'].astype(\"category\")\n",
    "\n",
    "#7.id없애기\n",
    "df = df.drop(['id'], axis=1)\n",
    "\n",
    "#8.Balance 0인지 아닌지에 대한 feature생성\n",
    "df['Balance2'] = (df['Balance'] == 0).astype(int)\n",
    "df['Balance2']=df['Balance2'].astype(\"category\")\n",
    "\n",
    "all_data=df"
   ]
  },
  {
   "cell_type": "code",
   "execution_count": 22,
   "id": "008b20b5",
   "metadata": {},
   "outputs": [
    {
     "name": "stdout",
     "output_type": "stream",
     "text": [
      "<class 'pandas.core.frame.DataFrame'>\n",
      "RangeIndex: 275057 entries, 0 to 275056\n",
      "Data columns (total 15 columns):\n",
      " #   Column             Non-Null Count   Dtype   \n",
      "---  ------             --------------   -----   \n",
      " 0   CustomerId         275057 non-null  category\n",
      " 1   Surname            275057 non-null  category\n",
      " 2   CreditScore        275057 non-null  int64   \n",
      " 3   Gender             275057 non-null  category\n",
      " 4   Age                275057 non-null  float64 \n",
      " 5   Tenure             275057 non-null  int64   \n",
      " 6   Balance            275057 non-null  float64 \n",
      " 7   NumOfProducts      275057 non-null  category\n",
      " 8   HasCrCard          275057 non-null  category\n",
      " 9   IsActiveMember     275057 non-null  category\n",
      " 10  EstimatedSalary    275057 non-null  float64 \n",
      " 11  duple              275057 non-null  category\n",
      " 12  Geography_Germany  275057 non-null  float64 \n",
      " 13  Geography_Spain    275057 non-null  float64 \n",
      " 14  Balance2           275057 non-null  category\n",
      "dtypes: category(8), float64(5), int64(2)\n",
      "memory usage: 18.6 MB\n"
     ]
    }
   ],
   "source": [
    "#all_data\n",
    "all_data.info()"
   ]
  },
  {
   "cell_type": "code",
   "execution_count": 23,
   "id": "a5e742e0",
   "metadata": {},
   "outputs": [
    {
     "data": {
      "text/plain": [
       "Index(['CustomerId', 'Surname', 'CreditScore', 'Gender', 'Age', 'Tenure',\n",
       "       'Balance', 'NumOfProducts', 'HasCrCard', 'IsActiveMember',\n",
       "       'EstimatedSalary', 'duple', 'Geography_Germany', 'Geography_Spain',\n",
       "       'Balance2'],\n",
       "      dtype='object')"
      ]
     },
     "execution_count": 23,
     "metadata": {},
     "output_type": "execute_result"
    }
   ],
   "source": [
    "#나중에 필요한 all_feature\n",
    "all_features=all_data.columns\n",
    "all_features"
   ]
  },
  {
   "cell_type": "code",
   "execution_count": 24,
   "id": "fe476f5e",
   "metadata": {},
   "outputs": [],
   "source": [
    "num_train=len(train)#훈련데이터 개수\n",
    "X=all_data[:num_train]\n",
    "X_test=all_data[num_train:]\n",
    "\n",
    "y=train['target']"
   ]
  },
  {
   "cell_type": "code",
   "execution_count": 25,
   "id": "cb23fa3e",
   "metadata": {},
   "outputs": [],
   "source": [
    "#8장9장을 잘 해야겠네\n",
    "#평가지표 계산함수 작성\n",
    "from sklearn.metrics import roc_auc_score\n",
    "\n",
    "\n",
    "# ROC AUC 계산\n",
    "#roc_auc = roc_auc_score(y_true, y_scores)\n",
    "#y_true는 실제 값 y_scores는 예측 확률값이다.\n",
    "\n",
    "\n",
    "#Lightgbm용 roc_auc 계산 함수\n",
    "def roc_auc(preds,dtrain):\n",
    "    labels=dtrain.get_label()\n",
    "    return 'roc_auc', roc_auc_score(labels,preds), True\n",
    "\n",
    "#살펴보면 dtrain이라는 데이터셋의 타깃값을 반환해 labels에 넣고\n",
    "#preds는 우리가 앞으로 구할 예측 확률값이다."
   ]
  },
  {
   "cell_type": "code",
   "execution_count": 26,
   "id": "7a88e1c5",
   "metadata": {},
   "outputs": [],
   "source": [
    "#oof방식(내가 잘 아는 k번한다음에 마지막에 평균내기)\n",
    "from sklearn.model_selection import StratifiedKFold\n",
    "\n",
    "# 층화 K 폴드 교차 검증기\n",
    "folds = StratifiedKFold(n_splits=5, shuffle=True, random_state=101)#5개로나눈다"
   ]
  },
  {
   "cell_type": "code",
   "execution_count": 27,
   "id": "2eeba0aa",
   "metadata": {},
   "outputs": [],
   "source": [
    "#파라미터\n",
    "params = {'objective': 'binary',\n",
    "          'learning_rate': 0.01,\n",
    "          'force_row_wise': True, #경고문구 없애라\n",
    "          'random_state': 101}"
   ]
  },
  {
   "cell_type": "code",
   "execution_count": 28,
   "id": "7e79ca96",
   "metadata": {},
   "outputs": [],
   "source": [
    "# OOF 방식으로 훈련된 모델로 검증 데이터 타깃값을 예측한 확률을 담을 1차원 배열\n",
    "oof_val_preds = np.zeros(X.shape[0]) \n",
    "# OOF 방식으로 훈련된 모델로 테스트 데이터 타깃값을 예측한 확률을 담을 1차원 배열\n",
    "oof_test_preds = np.zeros(X_test.shape[0]) "
   ]
  },
  {
   "cell_type": "code",
   "execution_count": 29,
   "id": "2e63f9cb",
   "metadata": {
    "scrolled": false
   },
   "outputs": [
    {
     "name": "stdout",
     "output_type": "stream",
     "text": [
      "######################################## 폴드 1 / 폴드 5 ########################################\n",
      "[LightGBM] [Info] Number of positive: 27937, number of negative: 104090\n",
      "[LightGBM] [Info] Total Bins 12978\n",
      "[LightGBM] [Info] Number of data points in the train set: 132027, number of used features: 15\n",
      "[LightGBM] [Info] [binary:BoostFromScore]: pavg=0.211601 -> initscore=-1.315304\n",
      "[LightGBM] [Info] Start training from score -1.315304\n",
      "Training until validation scores don't improve for 100 rounds\n"
     ]
    },
    {
     "name": "stderr",
     "output_type": "stream",
     "text": [
      "C:\\Users\\ncc05\\anaconda3\\lib\\site-packages\\lightgbm\\engine.py:181: UserWarning: 'early_stopping_rounds' argument is deprecated and will be removed in a future release of LightGBM. Pass 'early_stopping()' callback via 'callbacks' argument instead.\n",
      "  _log_warning(\"'early_stopping_rounds' argument is deprecated and will be removed in a future release of LightGBM. \"\n",
      "C:\\Users\\ncc05\\anaconda3\\lib\\site-packages\\lightgbm\\engine.py:239: UserWarning: 'verbose_eval' argument is deprecated and will be removed in a future release of LightGBM. Pass 'log_evaluation()' callback via 'callbacks' argument instead.\n",
      "  _log_warning(\"'verbose_eval' argument is deprecated and will be removed in a future release of LightGBM. \"\n",
      "C:\\Users\\ncc05\\anaconda3\\lib\\site-packages\\lightgbm\\basic.py:1780: UserWarning: Overriding the parameters from Reference Dataset.\n",
      "  _log_warning('Overriding the parameters from Reference Dataset.')\n",
      "C:\\Users\\ncc05\\anaconda3\\lib\\site-packages\\lightgbm\\basic.py:1513: UserWarning: categorical_column in param dict is overridden.\n",
      "  _log_warning(f'{cat_alias} in param dict is overridden.')\n"
     ]
    },
    {
     "name": "stdout",
     "output_type": "stream",
     "text": [
      "[100]\tvalid_0's binary_logloss: 0.364828\tvalid_0's roc_auc: 0.883461\n",
      "[200]\tvalid_0's binary_logloss: 0.332799\tvalid_0's roc_auc: 0.888017\n",
      "[300]\tvalid_0's binary_logloss: 0.323351\tvalid_0's roc_auc: 0.889892\n",
      "[400]\tvalid_0's binary_logloss: 0.320627\tvalid_0's roc_auc: 0.890268\n",
      "Early stopping, best iteration is:\n",
      "[375]\tvalid_0's binary_logloss: 0.320928\tvalid_0's roc_auc: 0.890364\n",
      "폴드 1 auc넓이 : 0.8903641429145484\n",
      "\n",
      "######################################## 폴드 2 / 폴드 5 ########################################\n",
      "[LightGBM] [Info] Number of positive: 27937, number of negative: 104090\n",
      "[LightGBM] [Info] Total Bins 13014\n",
      "[LightGBM] [Info] Number of data points in the train set: 132027, number of used features: 15\n"
     ]
    },
    {
     "name": "stderr",
     "output_type": "stream",
     "text": [
      "C:\\Users\\ncc05\\anaconda3\\lib\\site-packages\\lightgbm\\engine.py:181: UserWarning: 'early_stopping_rounds' argument is deprecated and will be removed in a future release of LightGBM. Pass 'early_stopping()' callback via 'callbacks' argument instead.\n",
      "  _log_warning(\"'early_stopping_rounds' argument is deprecated and will be removed in a future release of LightGBM. \"\n",
      "C:\\Users\\ncc05\\anaconda3\\lib\\site-packages\\lightgbm\\engine.py:239: UserWarning: 'verbose_eval' argument is deprecated and will be removed in a future release of LightGBM. Pass 'log_evaluation()' callback via 'callbacks' argument instead.\n",
      "  _log_warning(\"'verbose_eval' argument is deprecated and will be removed in a future release of LightGBM. \"\n",
      "C:\\Users\\ncc05\\anaconda3\\lib\\site-packages\\lightgbm\\basic.py:1780: UserWarning: Overriding the parameters from Reference Dataset.\n",
      "  _log_warning('Overriding the parameters from Reference Dataset.')\n",
      "C:\\Users\\ncc05\\anaconda3\\lib\\site-packages\\lightgbm\\basic.py:1513: UserWarning: categorical_column in param dict is overridden.\n",
      "  _log_warning(f'{cat_alias} in param dict is overridden.')\n"
     ]
    },
    {
     "name": "stdout",
     "output_type": "stream",
     "text": [
      "[LightGBM] [Info] [binary:BoostFromScore]: pavg=0.211601 -> initscore=-1.315304\n",
      "[LightGBM] [Info] Start training from score -1.315304\n",
      "Training until validation scores don't improve for 100 rounds\n",
      "[100]\tvalid_0's binary_logloss: 0.361516\tvalid_0's roc_auc: 0.887264\n",
      "[200]\tvalid_0's binary_logloss: 0.328664\tvalid_0's roc_auc: 0.891322\n",
      "[300]\tvalid_0's binary_logloss: 0.318519\tvalid_0's roc_auc: 0.89331\n",
      "[400]\tvalid_0's binary_logloss: 0.315454\tvalid_0's roc_auc: 0.893777\n",
      "[500]\tvalid_0's binary_logloss: 0.314698\tvalid_0's roc_auc: 0.893635\n",
      "Early stopping, best iteration is:\n",
      "[436]\tvalid_0's binary_logloss: 0.314956\tvalid_0's roc_auc: 0.893815\n",
      "폴드 2 auc넓이 : 0.8938147895339214\n",
      "\n",
      "######################################## 폴드 3 / 폴드 5 ########################################\n",
      "[LightGBM] [Info] Number of positive: 27937, number of negative: 104090\n",
      "[LightGBM] [Info] Total Bins 12994\n",
      "[LightGBM] [Info] Number of data points in the train set: 132027, number of used features: 15\n"
     ]
    },
    {
     "name": "stderr",
     "output_type": "stream",
     "text": [
      "C:\\Users\\ncc05\\anaconda3\\lib\\site-packages\\lightgbm\\engine.py:181: UserWarning: 'early_stopping_rounds' argument is deprecated and will be removed in a future release of LightGBM. Pass 'early_stopping()' callback via 'callbacks' argument instead.\n",
      "  _log_warning(\"'early_stopping_rounds' argument is deprecated and will be removed in a future release of LightGBM. \"\n",
      "C:\\Users\\ncc05\\anaconda3\\lib\\site-packages\\lightgbm\\engine.py:239: UserWarning: 'verbose_eval' argument is deprecated and will be removed in a future release of LightGBM. Pass 'log_evaluation()' callback via 'callbacks' argument instead.\n",
      "  _log_warning(\"'verbose_eval' argument is deprecated and will be removed in a future release of LightGBM. \"\n",
      "C:\\Users\\ncc05\\anaconda3\\lib\\site-packages\\lightgbm\\basic.py:1780: UserWarning: Overriding the parameters from Reference Dataset.\n",
      "  _log_warning('Overriding the parameters from Reference Dataset.')\n",
      "C:\\Users\\ncc05\\anaconda3\\lib\\site-packages\\lightgbm\\basic.py:1513: UserWarning: categorical_column in param dict is overridden.\n",
      "  _log_warning(f'{cat_alias} in param dict is overridden.')\n"
     ]
    },
    {
     "name": "stdout",
     "output_type": "stream",
     "text": [
      "[LightGBM] [Info] [binary:BoostFromScore]: pavg=0.211601 -> initscore=-1.315304\n",
      "[LightGBM] [Info] Start training from score -1.315304\n",
      "Training until validation scores don't improve for 100 rounds\n",
      "[100]\tvalid_0's binary_logloss: 0.364393\tvalid_0's roc_auc: 0.884821\n",
      "[200]\tvalid_0's binary_logloss: 0.332045\tvalid_0's roc_auc: 0.889064\n",
      "[300]\tvalid_0's binary_logloss: 0.322625\tvalid_0's roc_auc: 0.890608\n",
      "[400]\tvalid_0's binary_logloss: 0.31969\tvalid_0's roc_auc: 0.89097\n",
      "Early stopping, best iteration is:\n",
      "[383]\tvalid_0's binary_logloss: 0.319924\tvalid_0's roc_auc: 0.891022\n",
      "폴드 3 auc넓이 : 0.891022242131476\n",
      "\n",
      "######################################## 폴드 4 / 폴드 5 ########################################\n",
      "[LightGBM] [Info] Number of positive: 27936, number of negative: 104091\n",
      "[LightGBM] [Info] Total Bins 12968\n",
      "[LightGBM] [Info] Number of data points in the train set: 132027, number of used features: 15\n"
     ]
    },
    {
     "name": "stderr",
     "output_type": "stream",
     "text": [
      "C:\\Users\\ncc05\\anaconda3\\lib\\site-packages\\lightgbm\\engine.py:181: UserWarning: 'early_stopping_rounds' argument is deprecated and will be removed in a future release of LightGBM. Pass 'early_stopping()' callback via 'callbacks' argument instead.\n",
      "  _log_warning(\"'early_stopping_rounds' argument is deprecated and will be removed in a future release of LightGBM. \"\n",
      "C:\\Users\\ncc05\\anaconda3\\lib\\site-packages\\lightgbm\\engine.py:239: UserWarning: 'verbose_eval' argument is deprecated and will be removed in a future release of LightGBM. Pass 'log_evaluation()' callback via 'callbacks' argument instead.\n",
      "  _log_warning(\"'verbose_eval' argument is deprecated and will be removed in a future release of LightGBM. \"\n",
      "C:\\Users\\ncc05\\anaconda3\\lib\\site-packages\\lightgbm\\basic.py:1780: UserWarning: Overriding the parameters from Reference Dataset.\n",
      "  _log_warning('Overriding the parameters from Reference Dataset.')\n",
      "C:\\Users\\ncc05\\anaconda3\\lib\\site-packages\\lightgbm\\basic.py:1513: UserWarning: categorical_column in param dict is overridden.\n",
      "  _log_warning(f'{cat_alias} in param dict is overridden.')\n"
     ]
    },
    {
     "name": "stdout",
     "output_type": "stream",
     "text": [
      "[LightGBM] [Info] [binary:BoostFromScore]: pavg=0.211593 -> initscore=-1.315349\n",
      "[LightGBM] [Info] Start training from score -1.315349\n",
      "Training until validation scores don't improve for 100 rounds\n",
      "[100]\tvalid_0's binary_logloss: 0.366408\tvalid_0's roc_auc: 0.878377\n",
      "[200]\tvalid_0's binary_logloss: 0.335672\tvalid_0's roc_auc: 0.882992\n",
      "[300]\tvalid_0's binary_logloss: 0.326982\tvalid_0's roc_auc: 0.884737\n",
      "[400]\tvalid_0's binary_logloss: 0.324557\tvalid_0's roc_auc: 0.885149\n",
      "[500]\tvalid_0's binary_logloss: 0.324304\tvalid_0's roc_auc: 0.884847\n",
      "Early stopping, best iteration is:\n",
      "[425]\tvalid_0's binary_logloss: 0.324295\tvalid_0's roc_auc: 0.885195\n",
      "폴드 4 auc넓이 : 0.8851951437820329\n",
      "\n",
      "######################################## 폴드 5 / 폴드 5 ########################################\n",
      "[LightGBM] [Info] Number of positive: 27937, number of negative: 104091\n",
      "[LightGBM] [Info] Total Bins 13013\n",
      "[LightGBM] [Info] Number of data points in the train set: 132028, number of used features: 15\n"
     ]
    },
    {
     "name": "stderr",
     "output_type": "stream",
     "text": [
      "C:\\Users\\ncc05\\anaconda3\\lib\\site-packages\\lightgbm\\engine.py:181: UserWarning: 'early_stopping_rounds' argument is deprecated and will be removed in a future release of LightGBM. Pass 'early_stopping()' callback via 'callbacks' argument instead.\n",
      "  _log_warning(\"'early_stopping_rounds' argument is deprecated and will be removed in a future release of LightGBM. \"\n",
      "C:\\Users\\ncc05\\anaconda3\\lib\\site-packages\\lightgbm\\engine.py:239: UserWarning: 'verbose_eval' argument is deprecated and will be removed in a future release of LightGBM. Pass 'log_evaluation()' callback via 'callbacks' argument instead.\n",
      "  _log_warning(\"'verbose_eval' argument is deprecated and will be removed in a future release of LightGBM. \"\n",
      "C:\\Users\\ncc05\\anaconda3\\lib\\site-packages\\lightgbm\\basic.py:1780: UserWarning: Overriding the parameters from Reference Dataset.\n",
      "  _log_warning('Overriding the parameters from Reference Dataset.')\n",
      "C:\\Users\\ncc05\\anaconda3\\lib\\site-packages\\lightgbm\\basic.py:1513: UserWarning: categorical_column in param dict is overridden.\n",
      "  _log_warning(f'{cat_alias} in param dict is overridden.')\n"
     ]
    },
    {
     "name": "stdout",
     "output_type": "stream",
     "text": [
      "[LightGBM] [Info] [binary:BoostFromScore]: pavg=0.211599 -> initscore=-1.315314\n",
      "[LightGBM] [Info] Start training from score -1.315314\n",
      "Training until validation scores don't improve for 100 rounds\n",
      "[100]\tvalid_0's binary_logloss: 0.362214\tvalid_0's roc_auc: 0.885908\n",
      "[200]\tvalid_0's binary_logloss: 0.329511\tvalid_0's roc_auc: 0.890058\n",
      "[300]\tvalid_0's binary_logloss: 0.320024\tvalid_0's roc_auc: 0.891769\n",
      "[400]\tvalid_0's binary_logloss: 0.317463\tvalid_0's roc_auc: 0.891839\n",
      "Early stopping, best iteration is:\n",
      "[357]\tvalid_0's binary_logloss: 0.318104\tvalid_0's roc_auc: 0.891974\n",
      "폴드 5 auc넓이 : 0.8919740256570283\n",
      "\n"
     ]
    }
   ],
   "source": [
    "import lightgbm as lgb\n",
    "\n",
    "# OOF 방식으로 모델 훈련, 검증, 예측\n",
    "for idx, (train_idx, valid_idx) in enumerate(folds.split(X, y)):\n",
    "    # 각 폴드를 구분하는 문구 출력\n",
    "    print('#'*40, f'폴드 {idx+1} / 폴드 {folds.n_splits}', '#'*40)\n",
    "    \n",
    "    # 훈련용 데이터, 검증용 데이터 설정 \n",
    "    X_train, y_train = X.iloc[train_idx], y.iloc[train_idx]  # 훈련용 데이터 (iloc 사용)\n",
    "    X_valid, y_valid = X.iloc[valid_idx], y.iloc[valid_idx]  # 검증용 데이터 (iloc 사용)\n",
    "\n",
    "    # LightGBM 전용 데이터셋 생성 \n",
    "    dtrain = lgb.Dataset(X_train, y_train)  # LightGBM 전용 훈련 데이터셋\n",
    "    dvalid = lgb.Dataset(X_valid, y_valid)  # LightGBM 전용 검증 데이터셋\n",
    "    \n",
    "    # LightGBM 모델 훈련 \n",
    "    lgb_model = lgb.train(params=params,        # 훈련용 하이퍼파라미터\n",
    "                          train_set=dtrain,     # 훈련 데이터셋\n",
    "                          num_boost_round=1000, # 부스팅 반복 횟수\n",
    "                          valid_sets=dvalid,    # 성능 평가용 검증 데이터셋\n",
    "                          feval=roc_auc,        # 검증용 평가지표\n",
    "                          early_stopping_rounds=100, # 조기종료 조건\n",
    "                          verbose_eval=100)     # 100번째마다 점수 출력\n",
    "    \n",
    "    # 테스트 데이터를 활용해 OOF 예측(이게 진짜 결과임 5로나눠서 더해주잖아)\n",
    "    oof_test_preds += lgb_model.predict(X_test)/folds.n_splits\n",
    "    \n",
    "    # 모델 성능 평가를 위한 검증 데이터 타깃값 예측(각 폴드마다)->5로 안나누어주는 이유는 평균값을 낼이유가 없잖아 폴드마다 결과를 보여\n",
    "    #주기만 하면되는데\n",
    "    oof_val_preds[valid_idx] = lgb_model.predict(X_valid)\n",
    "    \n",
    "    # 검증 데이터 예측 확률에 대한 auc넓이\n",
    "    score = roc_auc_score(y_valid, oof_val_preds[valid_idx])\n",
    "    print(f'폴드 {idx+1} auc넓이 : {score}\\n')"
   ]
  },
  {
   "cell_type": "code",
   "execution_count": 30,
   "id": "3230551b",
   "metadata": {},
   "outputs": [
    {
     "name": "stdout",
     "output_type": "stream",
     "text": [
      "test데이터에대한 roc넓이 0.8903917122394742\n"
     ]
    }
   ],
   "source": [
    "print('test데이터에대한 roc넓이', roc_auc_score(y, oof_val_preds))"
   ]
  },
  {
   "cell_type": "code",
   "execution_count": 31,
   "id": "ff983665",
   "metadata": {},
   "outputs": [],
   "source": [
    "submission['Exited']=oof_test_preds\n",
    "submission.to_csv('submission.csv',index=False)"
   ]
  },
  {
   "cell_type": "code",
   "execution_count": 32,
   "id": "19d95b68",
   "metadata": {},
   "outputs": [
    {
     "data": {
      "text/html": [
       "<div>\n",
       "<style scoped>\n",
       "    .dataframe tbody tr th:only-of-type {\n",
       "        vertical-align: middle;\n",
       "    }\n",
       "\n",
       "    .dataframe tbody tr th {\n",
       "        vertical-align: top;\n",
       "    }\n",
       "\n",
       "    .dataframe thead th {\n",
       "        text-align: right;\n",
       "    }\n",
       "</style>\n",
       "<table border=\"1\" class=\"dataframe\">\n",
       "  <thead>\n",
       "    <tr style=\"text-align: right;\">\n",
       "      <th></th>\n",
       "      <th>id</th>\n",
       "      <th>Exited</th>\n",
       "    </tr>\n",
       "  </thead>\n",
       "  <tbody>\n",
       "    <tr>\n",
       "      <th>0</th>\n",
       "      <td>165034</td>\n",
       "      <td>0.021162</td>\n",
       "    </tr>\n",
       "    <tr>\n",
       "      <th>1</th>\n",
       "      <td>165035</td>\n",
       "      <td>0.710880</td>\n",
       "    </tr>\n",
       "    <tr>\n",
       "      <th>2</th>\n",
       "      <td>165036</td>\n",
       "      <td>0.030456</td>\n",
       "    </tr>\n",
       "    <tr>\n",
       "      <th>3</th>\n",
       "      <td>165037</td>\n",
       "      <td>0.252227</td>\n",
       "    </tr>\n",
       "    <tr>\n",
       "      <th>4</th>\n",
       "      <td>165038</td>\n",
       "      <td>0.349166</td>\n",
       "    </tr>\n",
       "    <tr>\n",
       "      <th>...</th>\n",
       "      <td>...</td>\n",
       "      <td>...</td>\n",
       "    </tr>\n",
       "    <tr>\n",
       "      <th>110018</th>\n",
       "      <td>275052</td>\n",
       "      <td>0.044442</td>\n",
       "    </tr>\n",
       "    <tr>\n",
       "      <th>110019</th>\n",
       "      <td>275053</td>\n",
       "      <td>0.135457</td>\n",
       "    </tr>\n",
       "    <tr>\n",
       "      <th>110020</th>\n",
       "      <td>275054</td>\n",
       "      <td>0.052541</td>\n",
       "    </tr>\n",
       "    <tr>\n",
       "      <th>110021</th>\n",
       "      <td>275055</td>\n",
       "      <td>0.138181</td>\n",
       "    </tr>\n",
       "    <tr>\n",
       "      <th>110022</th>\n",
       "      <td>275056</td>\n",
       "      <td>0.188324</td>\n",
       "    </tr>\n",
       "  </tbody>\n",
       "</table>\n",
       "<p>110023 rows × 2 columns</p>\n",
       "</div>"
      ],
      "text/plain": [
       "            id    Exited\n",
       "0       165034  0.021162\n",
       "1       165035  0.710880\n",
       "2       165036  0.030456\n",
       "3       165037  0.252227\n",
       "4       165038  0.349166\n",
       "...        ...       ...\n",
       "110018  275052  0.044442\n",
       "110019  275053  0.135457\n",
       "110020  275054  0.052541\n",
       "110021  275055  0.138181\n",
       "110022  275056  0.188324\n",
       "\n",
       "[110023 rows x 2 columns]"
      ]
     },
     "execution_count": 32,
     "metadata": {},
     "output_type": "execute_result"
    }
   ],
   "source": [
    "submission"
   ]
  },
  {
   "cell_type": "code",
   "execution_count": null,
   "id": "f0c9ae57",
   "metadata": {},
   "outputs": [],
   "source": []
  }
 ],
 "metadata": {
  "kernelspec": {
   "display_name": "Python 3 (ipykernel)",
   "language": "python",
   "name": "python3"
  },
  "language_info": {
   "codemirror_mode": {
    "name": "ipython",
    "version": 3
   },
   "file_extension": ".py",
   "mimetype": "text/x-python",
   "name": "python",
   "nbconvert_exporter": "python",
   "pygments_lexer": "ipython3",
   "version": "3.10.9"
  }
 },
 "nbformat": 4,
 "nbformat_minor": 5
}
